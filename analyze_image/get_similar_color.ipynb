{
 "cells": [
  {
   "cell_type": "code",
   "execution_count": 1,
   "metadata": {},
   "outputs": [],
   "source": [
    "import numpy as np\n",
    "import pandas as pd\n",
    "import os"
   ]
  },
  {
   "cell_type": "code",
   "execution_count": 2,
   "metadata": {},
   "outputs": [],
   "source": [
    "data_path = '../scrape_func/'\n",
    "\n",
    "games = pd.read_csv(data_path + 'data/add_color/game_list.csv')\n",
    "horoyois = pd.read_csv(data_path + 'data/add_color/horoyoi_list.csv')"
   ]
  },
  {
   "cell_type": "code",
   "execution_count": 3,
   "metadata": {},
   "outputs": [],
   "source": [
    "# colorカラムが文字列として保存されているため、リストに変換する。（カラム３つ作ればよかった、、、）\n",
    "def list_to_float_color(str_list):\n",
    "    return [float(x) for x in str_list.strip('[]').replace(',', '').split()]\n",
    "\n",
    "games['color'] = games['color'].apply(list_to_float_color)\n",
    "horoyois['color'] = horoyois['color'].apply(list_to_float_color)"
   ]
  },
  {
   "cell_type": "code",
   "execution_count": 4,
   "metadata": {},
   "outputs": [
    {
     "data": {
      "text/html": [
       "<div>\n",
       "<style scoped>\n",
       "    .dataframe tbody tr th:only-of-type {\n",
       "        vertical-align: middle;\n",
       "    }\n",
       "\n",
       "    .dataframe tbody tr th {\n",
       "        vertical-align: top;\n",
       "    }\n",
       "\n",
       "    .dataframe thead th {\n",
       "        text-align: right;\n",
       "    }\n",
       "</style>\n",
       "<table border=\"1\" class=\"dataframe\">\n",
       "  <thead>\n",
       "    <tr style=\"text-align: right;\">\n",
       "      <th></th>\n",
       "      <th>Unnamed: 0</th>\n",
       "      <th>name</th>\n",
       "      <th>img</th>\n",
       "      <th>link</th>\n",
       "      <th>color</th>\n",
       "    </tr>\n",
       "  </thead>\n",
       "  <tbody>\n",
       "    <tr>\n",
       "      <th>0</th>\n",
       "      <td>0</td>\n",
       "      <td>カルカソンヌ(Carcassonne)</td>\n",
       "      <td>https://x.boardgamearena.net/data/themerelease...</td>\n",
       "      <td>https://ja.boardgamearena.com/gamepanel?game=c...</td>\n",
       "      <td>[2.2240218918997954, 1.5503291176551102, 1.716...</td>\n",
       "    </tr>\n",
       "    <tr>\n",
       "      <th>1</th>\n",
       "      <td>1</td>\n",
       "      <td>世界の七不思議(7Wonders)</td>\n",
       "      <td>https://x.boardgamearena.net/data/themerelease...</td>\n",
       "      <td>https://ja.boardgamearena.com/gamepanel?game=s...</td>\n",
       "      <td>[3.8158094115787833, 5.181244212494974, 6.7913...</td>\n",
       "    </tr>\n",
       "    <tr>\n",
       "      <th>2</th>\n",
       "      <td>2</td>\n",
       "      <td>キングドミノ(Kingdomino)</td>\n",
       "      <td>https://x.boardgamearena.net/data/themerelease...</td>\n",
       "      <td>https://ja.boardgamearena.com/gamepanel?game=k...</td>\n",
       "      <td>[0.9383290266961382, 2.6864771748668517, 1.176...</td>\n",
       "    </tr>\n",
       "    <tr>\n",
       "      <th>3</th>\n",
       "      <td>3</td>\n",
       "      <td>ニムト(6nimmt!)</td>\n",
       "      <td>https://x.boardgamearena.net/data/themerelease...</td>\n",
       "      <td>https://ja.boardgamearena.com/gamepanel?game=s...</td>\n",
       "      <td>[240.69334376084328, 196.1283454987948, 7.8330...</td>\n",
       "    </tr>\n",
       "    <tr>\n",
       "      <th>4</th>\n",
       "      <td>4</td>\n",
       "      <td>テラミスティカ(TerraMystica)</td>\n",
       "      <td>https://x.boardgamearena.net/data/themerelease...</td>\n",
       "      <td>https://ja.boardgamearena.com/gamepanel?game=t...</td>\n",
       "      <td>[0.8769417930027643, 0.9429159648026229, 0.777...</td>\n",
       "    </tr>\n",
       "  </tbody>\n",
       "</table>\n",
       "</div>"
      ],
      "text/plain": [
       "   Unnamed: 0                   name  \\\n",
       "0           0    カルカソンヌ(Carcassonne)   \n",
       "1           1      世界の七不思議(7Wonders)   \n",
       "2           2     キングドミノ(Kingdomino)   \n",
       "3           3           ニムト(6nimmt!)   \n",
       "4           4  テラミスティカ(TerraMystica)   \n",
       "\n",
       "                                                 img  \\\n",
       "0  https://x.boardgamearena.net/data/themerelease...   \n",
       "1  https://x.boardgamearena.net/data/themerelease...   \n",
       "2  https://x.boardgamearena.net/data/themerelease...   \n",
       "3  https://x.boardgamearena.net/data/themerelease...   \n",
       "4  https://x.boardgamearena.net/data/themerelease...   \n",
       "\n",
       "                                                link  \\\n",
       "0  https://ja.boardgamearena.com/gamepanel?game=c...   \n",
       "1  https://ja.boardgamearena.com/gamepanel?game=s...   \n",
       "2  https://ja.boardgamearena.com/gamepanel?game=k...   \n",
       "3  https://ja.boardgamearena.com/gamepanel?game=s...   \n",
       "4  https://ja.boardgamearena.com/gamepanel?game=t...   \n",
       "\n",
       "                                               color  \n",
       "0  [2.2240218918997954, 1.5503291176551102, 1.716...  \n",
       "1  [3.8158094115787833, 5.181244212494974, 6.7913...  \n",
       "2  [0.9383290266961382, 2.6864771748668517, 1.176...  \n",
       "3  [240.69334376084328, 196.1283454987948, 7.8330...  \n",
       "4  [0.8769417930027643, 0.9429159648026229, 0.777...  "
      ]
     },
     "execution_count": 4,
     "metadata": {},
     "output_type": "execute_result"
    }
   ],
   "source": [
    "games.head()"
   ]
  },
  {
   "cell_type": "code",
   "execution_count": 5,
   "metadata": {},
   "outputs": [
    {
     "data": {
      "text/plain": [
       "2.2240218918997954"
      ]
     },
     "execution_count": 5,
     "metadata": {},
     "output_type": "execute_result"
    }
   ],
   "source": [
    "games['color'][0][0]"
   ]
  },
  {
   "cell_type": "code",
   "execution_count": 9,
   "metadata": {},
   "outputs": [
    {
     "data": {
      "text/plain": [
       "716.565289603283"
      ]
     },
     "execution_count": 9,
     "metadata": {},
     "output_type": "execute_result"
    }
   ],
   "source": [
    "# 色の近さを計算する関数\n",
    "def abs_sub_list(list1, list2):\n",
    "    sum_tmp = 0\n",
    "    for i in range(3):\n",
    "        sum_tmp += abs(list1[i]-list2[i])\n",
    "        \n",
    "    return sum_tmp\n",
    "\n",
    "# 例\n",
    "abs_sub_list(games['color'][0], horoyois['color'][0])"
   ]
  },
  {
   "cell_type": "code",
   "execution_count": 11,
   "metadata": {},
   "outputs": [],
   "source": [
    "# 実行\n",
    "\n",
    "horo_names = []\n",
    "\n",
    "for g_color in games['color']:\n",
    "    horo_name = ''\n",
    "    memo = 10**9\n",
    "    for i, horo_color in enumerate(horoyois['color']):\n",
    "        similarity = abs_sub_list(g_color, horo_color)\n",
    "        if memo > similarity:\n",
    "            memo = similarity\n",
    "            horo_name = horoyois.iloc[i]['name']\n",
    "    \n",
    "    horo_names.append(horo_name)\n",
    "    \n",
    "games['horo_names'] = horo_names"
   ]
  },
  {
   "cell_type": "code",
   "execution_count": 14,
   "metadata": {},
   "outputs": [
    {
     "data": {
      "text/plain": [
       "コーラサワー       116\n",
       "アイスティーサワー     11\n",
       "ジンジャー         10\n",
       "白ぶどう           8\n",
       "白いサワー          7\n",
       "カシスとオレンジ       6\n",
       "もも             5\n",
       "グレフルソルティ       3\n",
       "はちみつレモン        3\n",
       "ミックスフルーツ       2\n",
       "グレープ           1\n",
       "サイダーサワー        1\n",
       "梅酒ソーダ          1\n",
       "ハピクルサワー        1\n",
       "Name: horo_names, dtype: int64"
      ]
     },
     "execution_count": 14,
     "metadata": {},
     "output_type": "execute_result"
    }
   ],
   "source": [
    "games['horo_names'].value_counts()"
   ]
  },
  {
   "cell_type": "code",
   "execution_count": 15,
   "metadata": {},
   "outputs": [],
   "source": [
    "del games['Unnamed: 0']"
   ]
  },
  {
   "cell_type": "code",
   "execution_count": 16,
   "metadata": {},
   "outputs": [],
   "source": [
    "games.to_csv('../games.csv')"
   ]
  },
  {
   "cell_type": "code",
   "execution_count": 17,
   "metadata": {},
   "outputs": [],
   "source": [
    "del horoyois['Unnamed: 0']\n",
    "\n",
    "horoyois.to_csv('../horoyois.csv')"
   ]
  },
  {
   "cell_type": "code",
   "execution_count": null,
   "metadata": {},
   "outputs": [],
   "source": []
  }
 ],
 "metadata": {
  "kernelspec": {
   "display_name": "Python 3",
   "language": "python",
   "name": "python3"
  },
  "language_info": {
   "codemirror_mode": {
    "name": "ipython",
    "version": 3
   },
   "file_extension": ".py",
   "mimetype": "text/x-python",
   "name": "python",
   "nbconvert_exporter": "python",
   "pygments_lexer": "ipython3",
   "version": "3.7.3"
  }
 },
 "nbformat": 4,
 "nbformat_minor": 2
}
