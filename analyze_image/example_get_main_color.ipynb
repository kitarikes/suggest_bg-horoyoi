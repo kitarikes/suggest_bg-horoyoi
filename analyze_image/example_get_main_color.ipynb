{
 "cells": [
  {
   "cell_type": "code",
   "execution_count": 1,
   "metadata": {},
   "outputs": [],
   "source": [
    "import numpy as np\n",
    "import pandas as pd\n",
    "import os"
   ]
  },
  {
   "cell_type": "code",
   "execution_count": 2,
   "metadata": {},
   "outputs": [],
   "source": [
    "data_path = '../scrape_func/'"
   ]
  },
  {
   "cell_type": "code",
   "execution_count": 3,
   "metadata": {},
   "outputs": [
    {
     "data": {
      "text/html": [
       "<div>\n",
       "<style scoped>\n",
       "    .dataframe tbody tr th:only-of-type {\n",
       "        vertical-align: middle;\n",
       "    }\n",
       "\n",
       "    .dataframe tbody tr th {\n",
       "        vertical-align: top;\n",
       "    }\n",
       "\n",
       "    .dataframe thead th {\n",
       "        text-align: right;\n",
       "    }\n",
       "</style>\n",
       "<table border=\"1\" class=\"dataframe\">\n",
       "  <thead>\n",
       "    <tr style=\"text-align: right;\">\n",
       "      <th></th>\n",
       "      <th>name</th>\n",
       "      <th>img</th>\n",
       "      <th>link</th>\n",
       "    </tr>\n",
       "  </thead>\n",
       "  <tbody>\n",
       "    <tr>\n",
       "      <th>0</th>\n",
       "      <td>\\nカルカソンヌ(Carcassonne)\\n</td>\n",
       "      <td>https://x.boardgamearena.net/data/themerelease...</td>\n",
       "      <td>https://ja.boardgamearena.com/gamepanel?game=c...</td>\n",
       "    </tr>\n",
       "    <tr>\n",
       "      <th>1</th>\n",
       "      <td>\\n世界の七不思議(7Wonders)\\n</td>\n",
       "      <td>https://x.boardgamearena.net/data/themerelease...</td>\n",
       "      <td>https://ja.boardgamearena.com/gamepanel?game=s...</td>\n",
       "    </tr>\n",
       "    <tr>\n",
       "      <th>2</th>\n",
       "      <td>\\nキングドミノ(Kingdomino)\\n</td>\n",
       "      <td>https://x.boardgamearena.net/data/themerelease...</td>\n",
       "      <td>https://ja.boardgamearena.com/gamepanel?game=k...</td>\n",
       "    </tr>\n",
       "    <tr>\n",
       "      <th>3</th>\n",
       "      <td>\\nニムト(6nimmt!)\\n</td>\n",
       "      <td>https://x.boardgamearena.net/data/themerelease...</td>\n",
       "      <td>https://ja.boardgamearena.com/gamepanel?game=s...</td>\n",
       "    </tr>\n",
       "    <tr>\n",
       "      <th>4</th>\n",
       "      <td>\\nテラミスティカ(TerraMystica)\\n</td>\n",
       "      <td>https://x.boardgamearena.net/data/themerelease...</td>\n",
       "      <td>https://ja.boardgamearena.com/gamepanel?game=t...</td>\n",
       "    </tr>\n",
       "  </tbody>\n",
       "</table>\n",
       "</div>"
      ],
      "text/plain": [
       "                        name  \\\n",
       "0    \\nカルカソンヌ(Carcassonne)\\n   \n",
       "1      \\n世界の七不思議(7Wonders)\\n   \n",
       "2     \\nキングドミノ(Kingdomino)\\n   \n",
       "3           \\nニムト(6nimmt!)\\n   \n",
       "4  \\nテラミスティカ(TerraMystica)\\n   \n",
       "\n",
       "                                                 img  \\\n",
       "0  https://x.boardgamearena.net/data/themerelease...   \n",
       "1  https://x.boardgamearena.net/data/themerelease...   \n",
       "2  https://x.boardgamearena.net/data/themerelease...   \n",
       "3  https://x.boardgamearena.net/data/themerelease...   \n",
       "4  https://x.boardgamearena.net/data/themerelease...   \n",
       "\n",
       "                                                link  \n",
       "0  https://ja.boardgamearena.com/gamepanel?game=c...  \n",
       "1  https://ja.boardgamearena.com/gamepanel?game=s...  \n",
       "2  https://ja.boardgamearena.com/gamepanel?game=k...  \n",
       "3  https://ja.boardgamearena.com/gamepanel?game=s...  \n",
       "4  https://ja.boardgamearena.com/gamepanel?game=t...  "
      ]
     },
     "execution_count": 3,
     "metadata": {},
     "output_type": "execute_result"
    }
   ],
   "source": [
    "games = pd.read_csv(data_path + 'data/game_list.csv')\n",
    "horoyois = pd.read_csv(data_path + 'data/horoyoi_list.csv')\n",
    "\n",
    "games.head()\n",
    "# horoyoi.head()"
   ]
  },
  {
   "cell_type": "code",
   "execution_count": 4,
   "metadata": {},
   "outputs": [
    {
     "data": {
      "text/html": [
       "<div>\n",
       "<style scoped>\n",
       "    .dataframe tbody tr th:only-of-type {\n",
       "        vertical-align: middle;\n",
       "    }\n",
       "\n",
       "    .dataframe tbody tr th {\n",
       "        vertical-align: top;\n",
       "    }\n",
       "\n",
       "    .dataframe thead th {\n",
       "        text-align: right;\n",
       "    }\n",
       "</style>\n",
       "<table border=\"1\" class=\"dataframe\">\n",
       "  <thead>\n",
       "    <tr style=\"text-align: right;\">\n",
       "      <th></th>\n",
       "      <th>name</th>\n",
       "      <th>img</th>\n",
       "      <th>link</th>\n",
       "    </tr>\n",
       "  </thead>\n",
       "  <tbody>\n",
       "    <tr>\n",
       "      <th>0</th>\n",
       "      <td>カルカソンヌ(Carcassonne)</td>\n",
       "      <td>https://x.boardgamearena.net/data/themerelease...</td>\n",
       "      <td>https://ja.boardgamearena.com/gamepanel?game=c...</td>\n",
       "    </tr>\n",
       "    <tr>\n",
       "      <th>1</th>\n",
       "      <td>世界の七不思議(7Wonders)</td>\n",
       "      <td>https://x.boardgamearena.net/data/themerelease...</td>\n",
       "      <td>https://ja.boardgamearena.com/gamepanel?game=s...</td>\n",
       "    </tr>\n",
       "    <tr>\n",
       "      <th>2</th>\n",
       "      <td>キングドミノ(Kingdomino)</td>\n",
       "      <td>https://x.boardgamearena.net/data/themerelease...</td>\n",
       "      <td>https://ja.boardgamearena.com/gamepanel?game=k...</td>\n",
       "    </tr>\n",
       "    <tr>\n",
       "      <th>3</th>\n",
       "      <td>ニムト(6nimmt!)</td>\n",
       "      <td>https://x.boardgamearena.net/data/themerelease...</td>\n",
       "      <td>https://ja.boardgamearena.com/gamepanel?game=s...</td>\n",
       "    </tr>\n",
       "    <tr>\n",
       "      <th>4</th>\n",
       "      <td>テラミスティカ(TerraMystica)</td>\n",
       "      <td>https://x.boardgamearena.net/data/themerelease...</td>\n",
       "      <td>https://ja.boardgamearena.com/gamepanel?game=t...</td>\n",
       "    </tr>\n",
       "  </tbody>\n",
       "</table>\n",
       "</div>"
      ],
      "text/plain": [
       "                    name                                                img  \\\n",
       "0    カルカソンヌ(Carcassonne)  https://x.boardgamearena.net/data/themerelease...   \n",
       "1      世界の七不思議(7Wonders)  https://x.boardgamearena.net/data/themerelease...   \n",
       "2     キングドミノ(Kingdomino)  https://x.boardgamearena.net/data/themerelease...   \n",
       "3           ニムト(6nimmt!)  https://x.boardgamearena.net/data/themerelease...   \n",
       "4  テラミスティカ(TerraMystica)  https://x.boardgamearena.net/data/themerelease...   \n",
       "\n",
       "                                                link  \n",
       "0  https://ja.boardgamearena.com/gamepanel?game=c...  \n",
       "1  https://ja.boardgamearena.com/gamepanel?game=s...  \n",
       "2  https://ja.boardgamearena.com/gamepanel?game=k...  \n",
       "3  https://ja.boardgamearena.com/gamepanel?game=s...  \n",
       "4  https://ja.boardgamearena.com/gamepanel?game=t...  "
      ]
     },
     "execution_count": 4,
     "metadata": {},
     "output_type": "execute_result"
    }
   ],
   "source": [
    "# 名前修正\n",
    "\n",
    "games['name'] = games['name'].apply(lambda x: x.replace('\\n', ''))\n",
    "\n",
    "games.head()"
   ]
  },
  {
   "cell_type": "code",
   "execution_count": 5,
   "metadata": {},
   "outputs": [
    {
     "data": {
      "text/html": [
       "<div>\n",
       "<style scoped>\n",
       "    .dataframe tbody tr th:only-of-type {\n",
       "        vertical-align: middle;\n",
       "    }\n",
       "\n",
       "    .dataframe tbody tr th {\n",
       "        vertical-align: top;\n",
       "    }\n",
       "\n",
       "    .dataframe thead th {\n",
       "        text-align: right;\n",
       "    }\n",
       "</style>\n",
       "<table border=\"1\" class=\"dataframe\">\n",
       "  <thead>\n",
       "    <tr style=\"text-align: right;\">\n",
       "      <th></th>\n",
       "      <th>name</th>\n",
       "      <th>img</th>\n",
       "    </tr>\n",
       "  </thead>\n",
       "  <tbody>\n",
       "    <tr>\n",
       "      <th>0</th>\n",
       "      <td>白いサワー</td>\n",
       "      <td>https://www.suntory.co.jp/rtd/horoyoi/assets/i...</td>\n",
       "    </tr>\n",
       "    <tr>\n",
       "      <th>1</th>\n",
       "      <td>グレープ</td>\n",
       "      <td>https://www.suntory.co.jp/rtd/horoyoi/assets/i...</td>\n",
       "    </tr>\n",
       "    <tr>\n",
       "      <th>2</th>\n",
       "      <td>もも</td>\n",
       "      <td>https://www.suntory.co.jp/rtd/horoyoi/assets/i...</td>\n",
       "    </tr>\n",
       "    <tr>\n",
       "      <th>3</th>\n",
       "      <td>アイスティーサワー</td>\n",
       "      <td>https://www.suntory.co.jp/rtd/horoyoi/assets/i...</td>\n",
       "    </tr>\n",
       "    <tr>\n",
       "      <th>4</th>\n",
       "      <td>白ぶどう</td>\n",
       "      <td>https://www.suntory.co.jp/rtd/horoyoi/assets/i...</td>\n",
       "    </tr>\n",
       "  </tbody>\n",
       "</table>\n",
       "</div>"
      ],
      "text/plain": [
       "        name                                                img\n",
       "0      白いサワー  https://www.suntory.co.jp/rtd/horoyoi/assets/i...\n",
       "1       グレープ  https://www.suntory.co.jp/rtd/horoyoi/assets/i...\n",
       "2         もも  https://www.suntory.co.jp/rtd/horoyoi/assets/i...\n",
       "3  アイスティーサワー  https://www.suntory.co.jp/rtd/horoyoi/assets/i...\n",
       "4       白ぶどう  https://www.suntory.co.jp/rtd/horoyoi/assets/i..."
      ]
     },
     "execution_count": 5,
     "metadata": {},
     "output_type": "execute_result"
    }
   ],
   "source": [
    "horoyois.head()"
   ]
  },
  {
   "cell_type": "code",
   "execution_count": 6,
   "metadata": {},
   "outputs": [],
   "source": [
    "import cv2\n",
    "import sklearn\n",
    "from sklearn.cluster import KMeans\n",
    "\n",
    "def imread(filename, flags=cv2.IMREAD_COLOR, dtype=np.uint8):\n",
    "    try:\n",
    "        n = np.fromfile(filename, dtype)\n",
    "        img = cv2.imdecode(n, flags)\n",
    "        return img\n",
    "    except Exception as e:\n",
    "        print(e)\n",
    "        return None"
   ]
  },
  {
   "cell_type": "code",
   "execution_count": 7,
   "metadata": {},
   "outputs": [
    {
     "name": "stdout",
     "output_type": "stream",
     "text": [
      "shape:(474, 256, 3)\n",
      "converted shape:(121344, 3)\n"
     ]
    }
   ],
   "source": [
    "# example\n",
    "\n",
    "# 画像読み込み\n",
    "_sample_image = imread(data_path + 'images/horoyoi/グレープ.png')\n",
    "\n",
    "print('shape:' + str(_sample_image.shape))\n",
    "\n",
    "# to 2dimention\n",
    "sample_image = _sample_image.reshape(\n",
    "    (_sample_image.shape[0] * _sample_image.shape[1], 3))\n",
    "\n",
    "print('converted shape:' + str(sample_image.shape))"
   ]
  },
  {
   "cell_type": "code",
   "execution_count": 8,
   "metadata": {},
   "outputs": [],
   "source": [
    "# k-means\n",
    "cluster = KMeans(n_clusters=5)"
   ]
  },
  {
   "cell_type": "code",
   "execution_count": 9,
   "metadata": {},
   "outputs": [
    {
     "data": {
      "text/plain": [
       "array([[214.68854663, 189.94545846, 236.88057159],\n",
       "       [  3.13438376,   1.66957049,   1.9114461 ],\n",
       "       [181.53706564, 151.50222008, 203.47239382],\n",
       "       [ 83.32030899,  50.25437887,  72.60747328],\n",
       "       [142.19233769, 112.77490739, 165.54747514]])"
      ]
     },
     "execution_count": 9,
     "metadata": {},
     "output_type": "execute_result"
    }
   ],
   "source": [
    "cluster.fit(X=sample_image)\n",
    "# 代表５色\n",
    "cluster.cluster_centers_"
   ]
  },
  {
   "cell_type": "code",
   "execution_count": 10,
   "metadata": {},
   "outputs": [
    {
     "name": "stdout",
     "output_type": "stream",
     "text": [
      "(b, g, r): [181.53706564 151.50222008 203.47239382] => サンプル数: 20720\n",
      "(b, g, r): [3.13438376 1.66957049 1.9114461 ] => サンプル数: 13201\n",
      "(b, g, r): [214.68854663 189.94545846 236.88057159] => サンプル数: 55774\n",
      "(b, g, r): [83.32030899 50.25437887 72.60747328] => サンプル数: 11133\n",
      "(b, g, r): [142.19233769 112.77490739 165.54747514] => サンプル数: 20516\n"
     ]
    }
   ],
   "source": [
    "# 色クラスごとのサンプル数\n",
    "result = cluster.fit_predict(sample_image)\n",
    "_, counts = np.unique(result, return_counts=True)\n",
    "for i, v in enumerate(counts):\n",
    "    print('(b, g, r): {} => サンプル数: {}'.format(cluster.cluster_centers_[i], v))"
   ]
  },
  {
   "cell_type": "code",
   "execution_count": 11,
   "metadata": {},
   "outputs": [
    {
     "data": {
      "image/png": "[encoded data removed]",
      "text/plain": [
       "<Figure size 720x216 with 2 Axes>"
      ]
     },
     "metadata": {
      "needs_background": "light"
     },
     "output_type": "display_data"
    }
   ],
   "source": [
    "# 色表示\n",
    "import matplotlib.pyplot as plt\n",
    "%matplotlib inline\n",
    "\n",
    "center = cluster.cluster_centers_\n",
    "_, counts = np.unique(result, return_counts=True)\n",
    "\n",
    "# matplotlib で棒グラフを作成する。\n",
    "fig, [ax1, ax2] = plt.subplots(1, 2, figsize=(10, 3))\n",
    "fig.subplots_adjust(wspace=0.5)\n",
    "\n",
    "# matplotlib の引数の仕様上、[0, 1] にして、(R, G, B) の順番にする。\n",
    "bar_color = [(r / 255, g / 255, b / 255) for b, g, r in center]\n",
    "bar_text = [f\"({r}, {g}, {b})\" for b, g, r in center.astype(np.uint8)]\n",
    "\n",
    "# 画像を表示する。\n",
    "ax1.imshow(cv2.cvtColor(_sample_image, cv2.COLOR_BGR2RGB))\n",
    "ax1.set_axis_off()\n",
    "\n",
    "# ヒストグラムを表示する。\n",
    "ax2.barh(np.arange(5), counts, color=bar_color, tick_label=bar_text)\n",
    "plt.show()"
   ]
  },
  {
   "cell_type": "code",
   "execution_count": 12,
   "metadata": {},
   "outputs": [
    {
     "name": "stdout",
     "output_type": "stream",
     "text": [
      "[214.68854663 189.94545846 236.88057159]\n"
     ]
    }
   ],
   "source": [
    "# 代表色だけを取得する\n",
    "\n",
    "max_idx = np.argmax(counts)\n",
    "main_bgr_color = center[max_idx]\n",
    "print(main_bgr_color)"
   ]
  },
  {
   "cell_type": "code",
   "execution_count": null,
   "metadata": {},
   "outputs": [],
   "source": []
  }
 ],
 "metadata": {
  "kernelspec": {
   "display_name": "Python 3",
   "language": "python",
   "name": "python3"
  },
  "language_info": {
   "codemirror_mode": {
    "name": "ipython",
    "version": 3
   },
   "file_extension": ".py",
   "mimetype": "text/x-python",
   "name": "python",
   "nbconvert_exporter": "python",
   "pygments_lexer": "ipython3",
   "version": "3.7.3"
  }
 },
 "nbformat": 4,
 "nbformat_minor": 2
}
